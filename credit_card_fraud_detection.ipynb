{
  "nbformat": 4,
  "nbformat_minor": 0,
  "metadata": {
    "colab": {
      "private_outputs": true,
      "provenance": [],
      "authorship_tag": "ABX9TyOys3d3vGc2gMsn8qj8R6zC",
      "include_colab_link": true
    },
    "kernelspec": {
      "name": "python3",
      "display_name": "Python 3"
    },
    "language_info": {
      "name": "python"
    }
  },
  "cells": [
    {
      "cell_type": "markdown",
      "metadata": {
        "id": "view-in-github",
        "colab_type": "text"
      },
      "source": [
        "<a href=\"https://colab.research.google.com/github/sukritis312/credit-card-faud-detection/blob/main/credit_card_fraud_detection.ipynb\" target=\"_parent\"><img src=\"https://colab.research.google.com/assets/colab-badge.svg\" alt=\"Open In Colab\"/></a>"
      ]
    },
    {
      "cell_type": "code",
      "source": [
        "!pip install snapml"
      ],
      "metadata": {
        "id": "H8NkKoqiWXpU"
      },
      "execution_count": null,
      "outputs": []
    },
    {
      "cell_type": "code",
      "source": [
        "!pip install skillsnetwork"
      ],
      "metadata": {
        "id": "8-XJSlyPZ7r5"
      },
      "execution_count": null,
      "outputs": []
    },
    {
      "cell_type": "code",
      "source": [
        "#importing libraries\n",
        "import warnings\n",
        "warnings.filterwarnings('ignore')\n",
        "import pandas as pd\n",
        "import numpy as np\n",
        "import matplotlib.pyplot as plt\n",
        "%matplotlib inline\n",
        "from sklearn.model_selection import train_test_split\n",
        "from sklearn.preprocessing import normalize, StandardScaler\n",
        "from sklearn.metrics import roc_auc_score\n",
        "from sklearn.utils.class_weight import compute_sample_weight\n",
        "import time\n",
        "import sys,gc"
      ],
      "metadata": {
        "id": "ybG0sUSuW3db"
      },
      "execution_count": null,
      "outputs": []
    },
    {
      "cell_type": "code",
      "source": [
        "#downloading the dataset\n",
        "import skillsnetwork\n",
        "await skillsnetwork.prepare(\"https://cf-courses-data.s3.us.cloud-object-storage.appdomain.cloud/IBM-GPXX0RHPEN/data/creditcard.tgz\", overwrite=True)"
      ],
      "metadata": {
        "id": "QpbGXIh2YvGv"
      },
      "execution_count": null,
      "outputs": []
    },
    {
      "cell_type": "code",
      "source": [
        "#Reading the dataset\n",
        "data=pd.read_csv('creditcard.csv')\n",
        "print('There are '+ str(len(data))+ 'observations in the credit card fraud dataset')\n",
        "print('There are' + str(len(data.columns)) + 'variables in the dataset')\n",
        "#display the first rows of dataset\n",
        "data.head()"
      ],
      "metadata": {
        "id": "ejCB6ZZfbW4g"
      },
      "execution_count": null,
      "outputs": []
    },
    {
      "cell_type": "code",
      "source": [
        "n_replicas=10\n",
        "big_data=pd.DataFrame(np.repeat(data.values, n_replicas, axis=0), columns=data.columns)\n",
        "print(\"There are \" + str(len(big_data)) + \"observations in the inflated credit card fraud dataset\")\n",
        "print(\"There are \" + str(len(big_data.columns)) + \"variables in the dataset\")\n",
        "\n",
        "# display first rows in the new dataset\n",
        "big_data.head()"
      ],
      "metadata": {
        "id": "3Ee6Cp2nc8GG"
      },
      "execution_count": null,
      "outputs": []
    },
    {
      "cell_type": "code",
      "source": [
        "labels=big_data.Class.unique()\n",
        "sizes=big_data.Class.value_counts().values\n",
        "fig,ax=plt.subplots()\n",
        "ax.pie(sizes,labels=labels,autopct='1.3%%f')\n",
        "ax.set_title('Target variable value counts')\n",
        "plt.show()"
      ],
      "metadata": {
        "id": "49l4Jvbldt0j"
      },
      "execution_count": null,
      "outputs": []
    },
    {
      "cell_type": "code",
      "source": [
        "#credit card transaction amount\n",
        "plt.hist(big_data.Amount.values, 6, histtype='bar', facecolor='r')\n",
        "plt.show()\n",
        "\n",
        "print(\"Minimum amount value is \", np.min(big_data.Amount.values))\n",
        "print(\"Maximum amount value is \", np.max(big_data.Amount.values))\n",
        "print(\"90% of the transactions have an amount less or equal than \", np.percentile(data.Amount.values, 90))"
      ],
      "metadata": {
        "id": "izy6O46sjsZg"
      },
      "execution_count": null,
      "outputs": []
    },
    {
      "cell_type": "code",
      "source": [
        "#data preprocessing\n",
        "big_data.iloc[:, 1:30] = StandardScaler().fit_transform(big_data.iloc[:, 1:30])\n",
        "data_matrix = big_data.values\n",
        "\n",
        "#X: feature matrix (for this analysis, we exclude the Time variable from the dataset)\n",
        "X = data_matrix[:, 1:30]\n",
        "\n",
        "#y: labels vector\n",
        "y = data_matrix[:, 30]\n",
        "\n",
        "#data normalization\n",
        "X = normalize(X, norm=\"l1\")\n",
        "\n",
        "#print the shape of the features matrix and the labels vector\n",
        "print('X.shape=', X.shape, 'y.shape=', y.shape)\n",
        "\n",
        "del data\n",
        "del big_data\n",
        "gc.collect()"
      ],
      "metadata": {
        "id": "szTVDdcqkB-3"
      },
      "execution_count": null,
      "outputs": []
    },
    {
      "cell_type": "code",
      "source": [
        "#dataset training/test split\n",
        "X_train, X_test, y_train, y_test = train_test_split(X, y, test_size=0.3, random_state=42, stratify=y)       \n",
        "print('X_train.shape=', X_train.shape, 'Y_train.shape=', y_train.shape)\n",
        "print('X_test.shape=', X_test.shape, 'Y_test.shape=', y_test.shape)"
      ],
      "metadata": {
        "id": "tkSDMf-RlYHK"
      },
      "execution_count": null,
      "outputs": []
    },
    {
      "cell_type": "code",
      "source": [
        "w_train = compute_sample_weight('balanced', y_train)"
      ],
      "metadata": {
        "id": "6HKrdy5Sl9T8"
      },
      "execution_count": null,
      "outputs": []
    },
    {
      "cell_type": "code",
      "source": [
        "#importing the decision tree classifier model\n",
        "from sklearn.tree import DecisionTreeClassifier\n",
        "sklearn_dt = DecisionTreeClassifier(max_depth=4, random_state=35)\n",
        "#train the decision tree classifier model\n",
        "t0 = time.time()\n",
        "sklearn_dt.fit(X_train, y_train, sample_weight=w_train)\n",
        "sklearn_time = time.time()-t0\n",
        "print(\"[Scikit-Learn] Training time (s):  {0:.5f}\".format(sklearn_time))"
      ],
      "metadata": {
        "id": "oIEa0xfal_ar"
      },
      "execution_count": null,
      "outputs": []
    },
    {
      "cell_type": "code",
      "source": [
        "#decision tree classifier with snapml\n",
        "from snapml import DecisionTreeClassifier\n",
        "snapml_dt = DecisionTreeClassifier(max_depth=4, random_state=45, use_gpu=True)\n",
        "snapml_dt = DecisionTreeClassifier(max_depth=4, random_state=45, n_jobs=4)\n",
        "#train a decision tree classifier model using snap ML\n",
        "t0 = time.time()\n",
        "snapml_dt.fit(X_train, y_train, sample_weight=w_train)\n",
        "snapml_time = time.time()-t0\n",
        "print(\"[Snap ML] Training time (s):  {0:.5f}\".format(snapml_time))"
      ],
      "metadata": {
        "id": "x5WYqQ45nB4b"
      },
      "execution_count": null,
      "outputs": []
    },
    {
      "cell_type": "code",
      "source": [
        "sklearn_pred = sklearn_dt.predict_proba(X_test)[:,1]\n",
        "snapml_pred = snapml_dt.predict_proba(X_test)[:,1]\n",
        "sklearn_roc_auc = roc_auc_score(y_test, sklearn_pred)\n",
        "print('[Scikit-Learn] ROC-AUC score : {0:.3f}'.format(sklearn_roc_auc))\n",
        "\n",
        "snapml_roc_auc = roc_auc_score(y_test, snapml_pred)   \n",
        "print('[Snap ML] ROC-AUC score : {0:.3f}'.format(snapml_roc_auc))"
      ],
      "metadata": {
        "id": "Dc9VpSr_ntHG"
      },
      "execution_count": null,
      "outputs": []
    },
    {
      "cell_type": "code",
      "source": [
        "from sklearn.svm import LinearSVC"
      ],
      "metadata": {
        "id": "nUee63aBonH_"
      },
      "execution_count": null,
      "outputs": []
    },
    {
      "cell_type": "code",
      "source": [
        "sklearn_svm = LinearSVC(class_weight='balanced', random_state=31, loss=\"hinge\", fit_intercept=False)"
      ],
      "metadata": {
        "id": "nc4Nw0G6o1VZ"
      },
      "execution_count": null,
      "outputs": []
    },
    {
      "cell_type": "code",
      "source": [
        "t0 = time.time()\n",
        "sklearn_svm.fit(X_train, y_train)\n",
        "sklearn_time = time.time() - t0\n",
        "print(\"[Scikit-Learn] Training time (s):  {0:.2f}\".format(sklearn_time))"
      ],
      "metadata": {
        "id": "NUS-iEgDo7_t"
      },
      "execution_count": null,
      "outputs": []
    },
    {
      "cell_type": "code",
      "source": [
        "#vector machines\n",
        "from snapml import SupportVectorMachine\n",
        "snapml_svm = SupportVectorMachine(class_weight='balanced', random_state=25, n_jobs=4, fit_intercept=False)\n",
        "print(snapml_svm.get_params())"
      ],
      "metadata": {
        "id": "a0XceVpFn6dS"
      },
      "execution_count": null,
      "outputs": []
    },
    {
      "cell_type": "code",
      "source": [
        "t0 = time.time()\n",
        "model = snapml_svm.fit(X_train, y_train)\n",
        "snapml_time = time.time() - t0\n",
        "print(\"[Snap ML] Training time (s):  {0:.2f}\".format(snapml_time))"
      ],
      "metadata": {
        "id": "WSdgt5r0oaqu"
      },
      "execution_count": null,
      "outputs": []
    },
    {
      "cell_type": "code",
      "source": [
        "# compute the Snap ML vs Scikit-Learn training speedup\n",
        "training_speedup = sklearn_time/snapml_time\n",
        "print('[Support Vector Machine] Snap ML vs. Scikit-Learn training speedup : {0:.2f}x '.format(training_speedup))"
      ],
      "metadata": {
        "id": "yf-IGcwAohjV"
      },
      "execution_count": null,
      "outputs": []
    },
    {
      "cell_type": "code",
      "source": [
        "sklearn_pred = sklearn_svm.decision_function(X_test)\n",
        "snapml_pred = snapml_svm.decision_function(X_test)"
      ],
      "metadata": {
        "id": "DKK2U4ULpcft"
      },
      "execution_count": null,
      "outputs": []
    },
    {
      "cell_type": "code",
      "source": [
        "acc_sklearn  = roc_auc_score(y_test, sklearn_pred)\n",
        "print(\"[Scikit-Learn] ROC-AUC score:   {0:.3f}\".format(acc_sklearn))\n",
        "\n",
        "acc_snapml  = roc_auc_score(y_test, snapml_pred)\n",
        "print(\"[Snap ML] ROC-AUC score:   {0:.3f}\".format(acc_snapml))"
      ],
      "metadata": {
        "id": "9W_lVUMRpmvL"
      },
      "execution_count": null,
      "outputs": []
    },
    {
      "cell_type": "code",
      "source": [
        "from sklearn.metrics import hinge_loss\n",
        "sklearn_pred = sklearn_svm.decision_function(X_test)\n",
        "snapml_pred  = snapml_svm.decision_function(X_test)\n",
        "\n",
        "loss_sklearn = hinge_loss(y_test, sklearn_pred)\n",
        "print(\"[Scikit-Learn] Hinge loss:   {0:.3f}\".format(loss_sklearn))\n",
        "\n",
        "loss_snapml = hinge_loss(y_test, snapml_pred)\n",
        "print(\"[Snap ML] Hinge loss:   {0:.3f}\".format(loss_snapml))"
      ],
      "metadata": {
        "id": "sq-DkUm3pvWH"
      },
      "execution_count": null,
      "outputs": []
    }
  ]
}